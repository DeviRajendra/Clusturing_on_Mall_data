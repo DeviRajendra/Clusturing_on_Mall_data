{
 "cells": [
  {
   "cell_type": "markdown",
   "metadata": {},
   "source": [
    "## Using Cluster Analysis for Customer Segmentation "
   ]
  },
  {
   "cell_type": "code",
   "execution_count": 2,
   "metadata": {
    "ExecuteTime": {
     "end_time": "2020-02-23T09:36:19.699156Z",
     "start_time": "2020-02-23T09:36:18.950090Z"
    }
   },
   "outputs": [],
   "source": [
    "import pandas as pd"
   ]
  },
  {
   "cell_type": "markdown",
   "metadata": {},
   "source": [
    "### What is the goal of Clustering?\n",
    "\n",
    "* The goal of clustering is to split the data into well defined groups, to understand the instrinsic patterns present in the data\n",
    "\n",
    "* Let us look at the high level overview of clustering through the images below"
   ]
  },
  {
   "cell_type": "markdown",
   "metadata": {},
   "source": [
    "<img src='./img/customer_segmentation.jpg'/>"
   ]
  },
  {
   "cell_type": "markdown",
   "metadata": {},
   "source": [
    "## Case Study: Customer Segmentation of Mall Visitors\n",
    "\n",
    "In Data Analytics we often have very large data (many observations - \"rows in a flat file\"), which are however similar to each other hence we may want to organize them in a few clusters with similar observations within each cluster. For example, in the case of customer data, even though we may have data from millions of customers, these customers may only belong to a few segments: customers are similar within each segment but different across segments. We may often want to analyze each segment separately, as they may behave differently (e.g. different market segments may have different product preferences and behavioral patterns).\n",
    "\n",
    "In such situations, to identify segments in the data one can use statistical techniques broadly called **Clustering** techniques. Based on how we define \"similarities\" and \"differences\" between data observations (e.g. customers or assets), which can also be defined mathematically using **distance metrics**, one can find different segmentation solutions. A key ingredient of clustering and segmentation is exactly the definition of these distance metrics (between observations), which need to be defined creatively based on contextual knowledge and not only using \"black box\" mathematical equations and techniques. \n",
    "\n",
    "> Clustering techniques are used to group data/observations in a few segments so that data within any segment are similar while data across segments are different. Defining what we mean when we say \"similar\" or \"different\" observations is a key part of cluster analysis which often requires a lot of contextual knowledge and creativity beyond what statistical tools can provide.\n",
    "Cluster analysis is used in a variety of applications. For example it can be used to identify consumer segments, or competitive sets of products, or groups of assets whose prices co-move, or for geo-demographic segmentation, etc. In general it is often necessary to split our data into segments and perform any subsequent analysis within each segment in order to develop (potentially more refined) segment-specific insights. This may be the case even if there are no intuitively \"natural\" segments in our data. \n",
    "\n",
    "# Clustering and Segmentation using an Example\n",
    "\n",
    "In this note we discuss a process for clustering and segmentation using a simple dataset that describes attitudes of people to shopping in a shopping mall. As this is a small dataset, one could also \"manually\" explore the data to find \"visually\" customer segments - which may be feasible for this small dataset, although clustering is in general a very difficult problem even when the data is very small.  \n",
    "\n",
    "Before reading further, do try to think what segments one could define using this example data. As always, you will see that even in this relatively simple case it is not as obvious what the segments should be, and you will most likely disagree with your colleagues about them: the goal after all is to let the numbers and statistics help us be more *objective and statistically correct*.\n",
    "\n",
    "## The \"Business Decision\"\n",
    "\n",
    "The management team of a large shopping mall would like to understand the types of people who are, or could be, visiting their mall. They have good reasons to believe that there are a few different market segments, and they are considering designing and positioning the shopping mall services better in order to attract mainly a few profitable market segments, or to differentiate their services  (e.g. invitations to events, discounts, etc) across market segments. \n",
    "\n",
    "## The Data\n",
    "\n",
    "To make these decisions, the management team ran a market research survey of a few potential customers. In this case this was a small survey to only a few people, where each person answered six attitudinal questions and a question regarding how often they visit the mall, all on a scale 1-7, as well as one question regarding their household income:\n",
    "\n",
    "Name        | Description                                   | Scale\n",
    "-----------:|:----------------------------------------------|:-----\n",
    "V1          | Shopping is fun                               | 1-7\n",
    "V2          | Shopping is bad for your budget               | 1-7\n",
    "V3          | I combine shopping with eating out            | 1-7\n",
    "V4          | I try to get the best buys while shopping     | 1-7\n",
    "V5          | I don't care about shopping                   | 1-7\n",
    "V6          | You can save lot of money by comparing prices | 1-7\n",
    "Income      | The household income of the respondent        | Dollars\n",
    "Mall.Visits | How often they visit the mall                 | 1-7\n",
    "\n"
   ]
  },
  {
   "cell_type": "markdown",
   "metadata": {},
   "source": [
    "\n",
    "How can the company segment these people? Are there really segments in this market? Let's see **a** process for clustering and segmentation, the goal of this report. \n",
    "\n",
    "## A Process for Clustering and Segmentation\n",
    "\n",
    "As always: \n",
    "\n",
    "> It is important to remember that Data Analytics Projects require a delicate balance between experimentation, intuition, but also following (once a while) a process to avoid getting fooled by randomness and \"finding results and patterns\" that are mainly driven by our own biases and not by the facts/data themselves.\n",
    "There is *not one* process for clustering and segmentation. However, we have to start somewhere, so we will use the following process:\n",
    "\n",
    "# Clustering and Segmentation in 9 steps\n",
    "\n",
    "1. Import the Data and convert features into a corresponding numeric form\n",
    "2. Scale the  data\n",
    "3. Select Segmentation Variables\n",
    "4. Define similarity measure\n",
    "5. Method and Number of Segments\n",
    "6. Profile and interpret the segments \n",
    "7. Robustness Analysis\n",
    "\n",
    "Let's follow these steps.\n"
   ]
  },
  {
   "cell_type": "markdown",
   "metadata": {},
   "source": [
    "## Step 1: Import and pre-process the data\n",
    "\n",
    "While one can cluster data even if they are not metric, many of the statistical methods available for clustering require that the data are so: this means not only that all data are numbers, but also that the numbers have an actual numerical meaning, that is, 1 is less than 2, which is less than 3 etc. The main reason for this is that one needs to define distances between observations (see step 4 below), and often (\"black box\" mathematical) distances (e.g. the \"Euclideal distance\") are defined only with metric data. \n",
    "\n",
    "However, one could potentially define distances also for non-metric data. For example, if our data are names of people, one could simply define the distance between two people to be 0 when these people have the same name and 1 otherwise - one can easily think of generalizations. This is why, although most of the statistical methods available (which we will also use below) require that the data is metric, this is not necessary as long as we are willing to \"intervene in the clustering methods manually, e.g. to define the distance metrics between our observations manually\". We will show a simple example of such a manual intervention below. It is possible (e.g. in this report). "
   ]
  },
  {
   "cell_type": "code",
   "execution_count": 3,
   "metadata": {
    "ExecuteTime": {
     "end_time": "2020-02-23T09:36:23.671312Z",
     "start_time": "2020-02-23T09:36:23.646352Z"
    }
   },
   "outputs": [],
   "source": [
    "mall_data = pd.read_csv(\"mall_data.csv\")"
   ]
  },
  {
   "cell_type": "code",
   "execution_count": 4,
   "metadata": {
    "ExecuteTime": {
     "end_time": "2020-02-23T09:36:49.084234Z",
     "start_time": "2020-02-23T09:36:49.063291Z"
    },
    "scrolled": true
   },
   "outputs": [
    {
     "data": {
      "text/html": [
       "<div>\n",
       "<style scoped>\n",
       "    .dataframe tbody tr th:only-of-type {\n",
       "        vertical-align: middle;\n",
       "    }\n",
       "\n",
       "    .dataframe tbody tr th {\n",
       "        vertical-align: top;\n",
       "    }\n",
       "\n",
       "    .dataframe thead th {\n",
       "        text-align: right;\n",
       "    }\n",
       "</style>\n",
       "<table border=\"1\" class=\"dataframe\">\n",
       "  <thead>\n",
       "    <tr style=\"text-align: right;\">\n",
       "      <th></th>\n",
       "      <th>ID</th>\n",
       "      <th>V1</th>\n",
       "      <th>V2</th>\n",
       "      <th>V3</th>\n",
       "      <th>V4</th>\n",
       "      <th>V5</th>\n",
       "      <th>V6</th>\n",
       "      <th>Income</th>\n",
       "      <th>Mall.Visits</th>\n",
       "    </tr>\n",
       "  </thead>\n",
       "  <tbody>\n",
       "    <tr>\n",
       "      <th>0</th>\n",
       "      <td>1</td>\n",
       "      <td>6</td>\n",
       "      <td>4</td>\n",
       "      <td>7</td>\n",
       "      <td>3</td>\n",
       "      <td>2</td>\n",
       "      <td>3</td>\n",
       "      <td>60000.0</td>\n",
       "      <td>3</td>\n",
       "    </tr>\n",
       "    <tr>\n",
       "      <th>1</th>\n",
       "      <td>2</td>\n",
       "      <td>2</td>\n",
       "      <td>3</td>\n",
       "      <td>1</td>\n",
       "      <td>4</td>\n",
       "      <td>5</td>\n",
       "      <td>4</td>\n",
       "      <td>30000.0</td>\n",
       "      <td>1</td>\n",
       "    </tr>\n",
       "    <tr>\n",
       "      <th>2</th>\n",
       "      <td>3</td>\n",
       "      <td>7</td>\n",
       "      <td>2</td>\n",
       "      <td>6</td>\n",
       "      <td>4</td>\n",
       "      <td>1</td>\n",
       "      <td>3</td>\n",
       "      <td>70000.0</td>\n",
       "      <td>3</td>\n",
       "    </tr>\n",
       "    <tr>\n",
       "      <th>3</th>\n",
       "      <td>4</td>\n",
       "      <td>4</td>\n",
       "      <td>6</td>\n",
       "      <td>4</td>\n",
       "      <td>5</td>\n",
       "      <td>3</td>\n",
       "      <td>6</td>\n",
       "      <td>30000.0</td>\n",
       "      <td>7</td>\n",
       "    </tr>\n",
       "    <tr>\n",
       "      <th>4</th>\n",
       "      <td>5</td>\n",
       "      <td>1</td>\n",
       "      <td>3</td>\n",
       "      <td>2</td>\n",
       "      <td>2</td>\n",
       "      <td>6</td>\n",
       "      <td>4</td>\n",
       "      <td>60000.0</td>\n",
       "      <td>1</td>\n",
       "    </tr>\n",
       "  </tbody>\n",
       "</table>\n",
       "</div>"
      ],
      "text/plain": [
       "   ID  V1  V2  V3  V4  V5  V6   Income  Mall.Visits\n",
       "0   1   6   4   7   3   2   3  60000.0            3\n",
       "1   2   2   3   1   4   5   4  30000.0            1\n",
       "2   3   7   2   6   4   1   3  70000.0            3\n",
       "3   4   4   6   4   5   3   6  30000.0            7\n",
       "4   5   1   3   2   2   6   4  60000.0            1"
      ]
     },
     "execution_count": 4,
     "metadata": {},
     "output_type": "execute_result"
    }
   ],
   "source": [
    "mall_data.head()"
   ]
  },
  {
   "cell_type": "markdown",
   "metadata": {},
   "source": [
    "> In general, a \"best practice\" for segmentation is to creatively define distance metrics between our observations. \n",
    "In our case the data are metric, so we continue to the next step. Before doing so, we see the descriptive statistics of our data to get, as always, a better understanding of the data. \n",
    "Our data have the following descriptive statistics: \n",
    "\n"
   ]
  },
  {
   "cell_type": "code",
   "execution_count": 5,
   "metadata": {
    "ExecuteTime": {
     "end_time": "2020-02-23T09:37:45.585008Z",
     "start_time": "2020-02-23T09:37:45.536106Z"
    }
   },
   "outputs": [
    {
     "data": {
      "text/html": [
       "<div>\n",
       "<style scoped>\n",
       "    .dataframe tbody tr th:only-of-type {\n",
       "        vertical-align: middle;\n",
       "    }\n",
       "\n",
       "    .dataframe tbody tr th {\n",
       "        vertical-align: top;\n",
       "    }\n",
       "\n",
       "    .dataframe thead th {\n",
       "        text-align: right;\n",
       "    }\n",
       "</style>\n",
       "<table border=\"1\" class=\"dataframe\">\n",
       "  <thead>\n",
       "    <tr style=\"text-align: right;\">\n",
       "      <th></th>\n",
       "      <th>ID</th>\n",
       "      <th>V1</th>\n",
       "      <th>V2</th>\n",
       "      <th>V3</th>\n",
       "      <th>V4</th>\n",
       "      <th>V5</th>\n",
       "      <th>V6</th>\n",
       "      <th>Income</th>\n",
       "      <th>Mall.Visits</th>\n",
       "    </tr>\n",
       "  </thead>\n",
       "  <tbody>\n",
       "    <tr>\n",
       "      <th>count</th>\n",
       "      <td>3040.000000</td>\n",
       "      <td>3040.000000</td>\n",
       "      <td>3040.000000</td>\n",
       "      <td>3040.000000</td>\n",
       "      <td>3040.000000</td>\n",
       "      <td>3040.000000</td>\n",
       "      <td>3040.00000</td>\n",
       "      <td>3040.000000</td>\n",
       "      <td>3040.000000</td>\n",
       "    </tr>\n",
       "    <tr>\n",
       "      <th>mean</th>\n",
       "      <td>1520.500000</td>\n",
       "      <td>3.511184</td>\n",
       "      <td>4.153618</td>\n",
       "      <td>3.498684</td>\n",
       "      <td>4.190132</td>\n",
       "      <td>3.514803</td>\n",
       "      <td>4.03750</td>\n",
       "      <td>44326.949077</td>\n",
       "      <td>3.293092</td>\n",
       "    </tr>\n",
       "    <tr>\n",
       "      <th>std</th>\n",
       "      <td>877.716735</td>\n",
       "      <td>1.838639</td>\n",
       "      <td>1.604664</td>\n",
       "      <td>1.745015</td>\n",
       "      <td>1.579953</td>\n",
       "      <td>1.749661</td>\n",
       "      <td>1.36589</td>\n",
       "      <td>17061.017357</td>\n",
       "      <td>1.972320</td>\n",
       "    </tr>\n",
       "    <tr>\n",
       "      <th>min</th>\n",
       "      <td>1.000000</td>\n",
       "      <td>1.000000</td>\n",
       "      <td>2.000000</td>\n",
       "      <td>1.000000</td>\n",
       "      <td>2.000000</td>\n",
       "      <td>1.000000</td>\n",
       "      <td>2.00000</td>\n",
       "      <td>470.051848</td>\n",
       "      <td>0.000000</td>\n",
       "    </tr>\n",
       "    <tr>\n",
       "      <th>25%</th>\n",
       "      <td>760.750000</td>\n",
       "      <td>2.000000</td>\n",
       "      <td>3.000000</td>\n",
       "      <td>2.000000</td>\n",
       "      <td>3.000000</td>\n",
       "      <td>2.000000</td>\n",
       "      <td>3.00000</td>\n",
       "      <td>30613.749831</td>\n",
       "      <td>2.000000</td>\n",
       "    </tr>\n",
       "    <tr>\n",
       "      <th>50%</th>\n",
       "      <td>1520.500000</td>\n",
       "      <td>3.000000</td>\n",
       "      <td>4.000000</td>\n",
       "      <td>3.000000</td>\n",
       "      <td>4.000000</td>\n",
       "      <td>3.000000</td>\n",
       "      <td>4.00000</td>\n",
       "      <td>41515.891985</td>\n",
       "      <td>3.000000</td>\n",
       "    </tr>\n",
       "    <tr>\n",
       "      <th>75%</th>\n",
       "      <td>2280.250000</td>\n",
       "      <td>5.000000</td>\n",
       "      <td>5.000000</td>\n",
       "      <td>5.000000</td>\n",
       "      <td>5.000000</td>\n",
       "      <td>5.000000</td>\n",
       "      <td>5.00000</td>\n",
       "      <td>57887.934429</td>\n",
       "      <td>5.000000</td>\n",
       "    </tr>\n",
       "    <tr>\n",
       "      <th>max</th>\n",
       "      <td>3040.000000</td>\n",
       "      <td>7.000000</td>\n",
       "      <td>7.000000</td>\n",
       "      <td>7.000000</td>\n",
       "      <td>7.000000</td>\n",
       "      <td>7.000000</td>\n",
       "      <td>7.00000</td>\n",
       "      <td>94272.509094</td>\n",
       "      <td>7.000000</td>\n",
       "    </tr>\n",
       "  </tbody>\n",
       "</table>\n",
       "</div>"
      ],
      "text/plain": [
       "                ID           V1           V2           V3           V4  \\\n",
       "count  3040.000000  3040.000000  3040.000000  3040.000000  3040.000000   \n",
       "mean   1520.500000     3.511184     4.153618     3.498684     4.190132   \n",
       "std     877.716735     1.838639     1.604664     1.745015     1.579953   \n",
       "min       1.000000     1.000000     2.000000     1.000000     2.000000   \n",
       "25%     760.750000     2.000000     3.000000     2.000000     3.000000   \n",
       "50%    1520.500000     3.000000     4.000000     3.000000     4.000000   \n",
       "75%    2280.250000     5.000000     5.000000     5.000000     5.000000   \n",
       "max    3040.000000     7.000000     7.000000     7.000000     7.000000   \n",
       "\n",
       "                V5          V6        Income  Mall.Visits  \n",
       "count  3040.000000  3040.00000   3040.000000  3040.000000  \n",
       "mean      3.514803     4.03750  44326.949077     3.293092  \n",
       "std       1.749661     1.36589  17061.017357     1.972320  \n",
       "min       1.000000     2.00000    470.051848     0.000000  \n",
       "25%       2.000000     3.00000  30613.749831     2.000000  \n",
       "50%       3.000000     4.00000  41515.891985     3.000000  \n",
       "75%       5.000000     5.00000  57887.934429     5.000000  \n",
       "max       7.000000     7.00000  94272.509094     7.000000  "
      ]
     },
     "execution_count": 5,
     "metadata": {},
     "output_type": "execute_result"
    }
   ],
   "source": [
    "mall_data.describe()"
   ]
  },
  {
   "cell_type": "markdown",
   "metadata": {},
   "source": [
    "> Note that one should spend a lot of time getting a feeling of the data based on simple summary statistics and visualizations: good data analytics require that we understand our data very well.\n"
   ]
  },
  {
   "cell_type": "code",
   "execution_count": 6,
   "metadata": {
    "ExecuteTime": {
     "end_time": "2020-02-23T09:40:10.577371Z",
     "start_time": "2020-02-23T09:40:10.567360Z"
    }
   },
   "outputs": [
    {
     "data": {
      "text/plain": [
       "ID             0\n",
       "V1             0\n",
       "V2             0\n",
       "V3             0\n",
       "V4             0\n",
       "V5             0\n",
       "V6             0\n",
       "Income         0\n",
       "Mall.Visits    0\n",
       "dtype: int64"
      ]
     },
     "execution_count": 6,
     "metadata": {},
     "output_type": "execute_result"
    }
   ],
   "source": [
    "mall_data.isna().sum()"
   ]
  },
  {
   "cell_type": "markdown",
   "metadata": {},
   "source": [
    "## Step 2: Scale the  data\n",
    "\n",
    "This is an optional step. Note that for this data, while 6 of the \"survey\" data are on a similar scale, namely 1-7, there is one variable that is about 2 orders of magnitude larger: the Income variable. \n",
    "\n",
    "Having some variables with a very different range/scale can often create problems: **most of the \"results\" may be driven by a few large values**, more so than we would like. To avoid such issues, one has to consider whether or not to **standardize the data** by making some of the initial raw attributes have, for example,  mean  0 and standard deviation 1 (e.g. `scaledIncome` `=` `(Income-mean(Income))` `/` `sd(Income)`), or scaling them between 0 and 1 (e.g. `scaledIncome` `=` `(Income-min(Income))` `/` `(max(Income)-min(Income))`). "
   ]
  },
  {
   "cell_type": "markdown",
   "metadata": {},
   "source": [
    "While this is typically a necessary step, one has to always do it with care: some times you may want your analytics findings to be driven mainly by a few attributes that take large values; other times having attributes with different scales may imply something about those attributes. In many such cases one may choose to skip step 2 for some of the raw attributes."
   ]
  },
  {
   "cell_type": "code",
   "execution_count": 7,
   "metadata": {
    "ExecuteTime": {
     "end_time": "2020-02-23T09:59:36.946686Z",
     "start_time": "2020-02-23T09:59:36.942696Z"
    }
   },
   "outputs": [],
   "source": [
    "cols_to_scale = ['V1',\"V2\",\"V3\",\"V4\",\"V5\",\"V6\"]"
   ]
  },
  {
   "cell_type": "code",
   "execution_count": 8,
   "metadata": {
    "ExecuteTime": {
     "end_time": "2020-02-23T09:59:38.451848Z",
     "start_time": "2020-02-23T09:59:37.892911Z"
    }
   },
   "outputs": [],
   "source": [
    "from sklearn.preprocessing import MinMaxScaler"
   ]
  },
  {
   "cell_type": "code",
   "execution_count": 9,
   "metadata": {
    "ExecuteTime": {
     "end_time": "2020-02-23T10:06:37.031315Z",
     "start_time": "2020-02-23T10:06:37.022336Z"
    }
   },
   "outputs": [
    {
     "data": {
      "text/plain": [
       "MinMaxScaler(copy=True, feature_range=(0, 1))"
      ]
     },
     "execution_count": 9,
     "metadata": {},
     "output_type": "execute_result"
    }
   ],
   "source": [
    "scaler=MinMaxScaler(feature_range=(0,1))\n",
    "scaler.fit(mall_data[cols_to_scale].values)"
   ]
  },
  {
   "cell_type": "code",
   "execution_count": 12,
   "metadata": {
    "ExecuteTime": {
     "end_time": "2020-02-23T10:10:26.046621Z",
     "start_time": "2020-02-23T10:10:26.039636Z"
    }
   },
   "outputs": [],
   "source": [
    "scaled_cols =scaler.transform(mall_data[cols_to_scale].values)\n",
    "scaled_cols = pd.DataFrame(scaled_cols,columns = cols_to_scale)"
   ]
  },
  {
   "cell_type": "code",
   "execution_count": 13,
   "metadata": {
    "ExecuteTime": {
     "end_time": "2020-02-23T10:10:37.484474Z",
     "start_time": "2020-02-23T10:10:37.468852Z"
    }
   },
   "outputs": [
    {
     "data": {
      "text/html": [
       "<div>\n",
       "<style scoped>\n",
       "    .dataframe tbody tr th:only-of-type {\n",
       "        vertical-align: middle;\n",
       "    }\n",
       "\n",
       "    .dataframe tbody tr th {\n",
       "        vertical-align: top;\n",
       "    }\n",
       "\n",
       "    .dataframe thead th {\n",
       "        text-align: right;\n",
       "    }\n",
       "</style>\n",
       "<table border=\"1\" class=\"dataframe\">\n",
       "  <thead>\n",
       "    <tr style=\"text-align: right;\">\n",
       "      <th></th>\n",
       "      <th>V1</th>\n",
       "      <th>V2</th>\n",
       "      <th>V3</th>\n",
       "      <th>V4</th>\n",
       "      <th>V5</th>\n",
       "      <th>V6</th>\n",
       "    </tr>\n",
       "  </thead>\n",
       "  <tbody>\n",
       "    <tr>\n",
       "      <th>0</th>\n",
       "      <td>0.833333</td>\n",
       "      <td>0.4</td>\n",
       "      <td>1.000000</td>\n",
       "      <td>0.2</td>\n",
       "      <td>0.166667</td>\n",
       "      <td>0.2</td>\n",
       "    </tr>\n",
       "    <tr>\n",
       "      <th>1</th>\n",
       "      <td>0.166667</td>\n",
       "      <td>0.2</td>\n",
       "      <td>0.000000</td>\n",
       "      <td>0.4</td>\n",
       "      <td>0.666667</td>\n",
       "      <td>0.4</td>\n",
       "    </tr>\n",
       "    <tr>\n",
       "      <th>2</th>\n",
       "      <td>1.000000</td>\n",
       "      <td>0.0</td>\n",
       "      <td>0.833333</td>\n",
       "      <td>0.4</td>\n",
       "      <td>0.000000</td>\n",
       "      <td>0.2</td>\n",
       "    </tr>\n",
       "    <tr>\n",
       "      <th>3</th>\n",
       "      <td>0.500000</td>\n",
       "      <td>0.8</td>\n",
       "      <td>0.500000</td>\n",
       "      <td>0.6</td>\n",
       "      <td>0.333333</td>\n",
       "      <td>0.8</td>\n",
       "    </tr>\n",
       "    <tr>\n",
       "      <th>4</th>\n",
       "      <td>0.000000</td>\n",
       "      <td>0.2</td>\n",
       "      <td>0.166667</td>\n",
       "      <td>0.0</td>\n",
       "      <td>0.833333</td>\n",
       "      <td>0.4</td>\n",
       "    </tr>\n",
       "  </tbody>\n",
       "</table>\n",
       "</div>"
      ],
      "text/plain": [
       "         V1   V2        V3   V4        V5   V6\n",
       "0  0.833333  0.4  1.000000  0.2  0.166667  0.2\n",
       "1  0.166667  0.2  0.000000  0.4  0.666667  0.4\n",
       "2  1.000000  0.0  0.833333  0.4  0.000000  0.2\n",
       "3  0.500000  0.8  0.500000  0.6  0.333333  0.8\n",
       "4  0.000000  0.2  0.166667  0.0  0.833333  0.4"
      ]
     },
     "execution_count": 13,
     "metadata": {},
     "output_type": "execute_result"
    }
   ],
   "source": [
    "scaled_cols.head()"
   ]
  },
  {
   "cell_type": "markdown",
   "metadata": {},
   "source": [
    "> Note: In this case we won't be using the scaled values to perform clustering as the scale itself is already following a predefined range and the range is the same for all the variables we will be using to segment"
   ]
  },
  {
   "cell_type": "markdown",
   "metadata": {},
   "source": [
    "## Step 3: Select Segmentation Variables\n",
    "\n",
    "The decision about which variables to use for clustering is a **critically important decision** that will have a big impact on the clustering solution. So we need to think carefully about the variables we will choose for clustering. Good exploratory research that gives us a good sense of what variables may distinguish people or products or assets or regions is critical. Clearly this is a step where a lot of contextual knowledge, creativity, and experimentation/iterations are needed. \n",
    "\n",
    "Moreover, we often use only a few of the data attributes for segmentation (the **segmentation attributes**) and use some of the remaining ones (the **profiling attributes**) only to profile the clusters, as discussed in Step 8. For example, in market research and market segmentation, one may use attitudinal data for segmentation (to segment the customers based on their needs and attitudes towards the products/services) and then demographic and behavioral data for profiling the segments found. \n",
    "\n",
    "In our case, we can use the 6 attitudinal questions for segmentation, and the remaining 2 (Income and Mall.Visits) for profiling later. "
   ]
  },
  {
   "cell_type": "code",
   "execution_count": 15,
   "metadata": {
    "ExecuteTime": {
     "end_time": "2020-02-23T10:17:00.963151Z",
     "start_time": "2020-02-23T10:17:00.958162Z"
    }
   },
   "outputs": [],
   "source": [
    "variables_for_segementation = ['V1',\"V2\",\"V3\",\"V4\",\"V5\",\"V6\"]\n",
    "variables_for_Profile = ['Income','Mall.Visits']"
   ]
  },
  {
   "cell_type": "markdown",
   "metadata": {},
   "source": [
    "## Step 4: Define similarity measure\n",
    "\n",
    "Remember that the goal of clustering and segmentation is to group observations based on how similar they are. It is therefore **crucial** that we have a good undestanding of what makes two observations (e.g. customers, products, companies, assets, investments, etc) \"similar\". \n",
    "\n",
    "> If the user does not have a good understanding of what makes two observations (e.g. customers, products, companies, assets, investments, etc) \"similar\", no statistical method will be able to discover the answer to this question. \n",
    "Most statistical methods for clustering and segmentation use common mathematical measures of distance. Typical measures are, for example, the **Euclidean distance** or the **Manhattan distance**\n",
    "\n",
    "> There are literally thousands of rigorous mathematical definitions of distance between observations/vectors! Moreover, as noted above, the user may manually define such distance metrics, as we show for example below - note however, that in doing so one has to make sure that the defined distances are indeed \"valid\" ones (in a mathematical sense, a topic beyond the scope of this note).\n",
    "In our case we explore three distance metrics: the commonly used **Euclidean distance**, **Manhattan distance**, **Cosine Similarity**\n"
   ]
  },
  {
   "cell_type": "code",
   "execution_count": 17,
   "metadata": {
    "ExecuteTime": {
     "end_time": "2020-02-23T10:23:32.667794Z",
     "start_time": "2020-02-23T10:23:32.660813Z"
    }
   },
   "outputs": [
    {
     "data": {
      "text/plain": [
       "array([[0.83333333, 0.4       , 1.        , 0.2       , 0.16666667,\n",
       "        0.2       ]])"
      ]
     },
     "execution_count": 17,
     "metadata": {},
     "output_type": "execute_result"
    }
   ],
   "source": [
    "user_resp_one = scaled_cols.loc[0,variables_for_segementation].values.reshape(1,-1)\n",
    "user_resp_one"
   ]
  },
  {
   "cell_type": "code",
   "execution_count": 18,
   "metadata": {
    "ExecuteTime": {
     "end_time": "2020-02-23T10:24:16.126212Z",
     "start_time": "2020-02-23T10:24:16.118245Z"
    }
   },
   "outputs": [
    {
     "data": {
      "text/plain": [
       "array([[0.83333333, 0.4       , 0.83333333, 0.2       , 0.33333333,\n",
       "        0.4       ]])"
      ]
     },
     "execution_count": 18,
     "metadata": {},
     "output_type": "execute_result"
    }
   ],
   "source": [
    "user_resp_two = scaled_cols.loc[5,variables_for_segementation].values.reshape(1,-1)\n",
    "user_resp_two"
   ]
  },
  {
   "cell_type": "code",
   "execution_count": 26,
   "metadata": {
    "ExecuteTime": {
     "end_time": "2020-02-23T10:28:54.714184Z",
     "start_time": "2020-02-23T10:28:54.708201Z"
    }
   },
   "outputs": [
    {
     "data": {
      "text/plain": [
       "array([[0.53333333]])"
      ]
     },
     "execution_count": 26,
     "metadata": {},
     "output_type": "execute_result"
    }
   ],
   "source": [
    "from sklearn.neighbors import DistanceMetric\n",
    "euclidean = DistanceMetric.get_metric('manhattan')\n",
    "euclidean.pairwise(user_resp_one,user_resp_two)"
   ]
  },
  {
   "cell_type": "markdown",
   "metadata": {},
   "source": [
    "Metrics intended for real-valued vector spaces:\n",
    "\n",
    "\t\n",
    "identifier   |class name\t        | args\t     |distance function\n",
    "------------:|:--------------------:|:----------:|:--------------------\n",
    "“euclidean”\t |  EuclideanDistance   |    .       | sqrt(sum((x - y)^2))\n",
    "“manhattan”\t |  ManhattanDistance   |    .       | sum(\\|x - y\\|)\n",
    "“chebyshev”\t |  ChebyshevDistance   |    .       | max(\\|x - y\\|)\n",
    "“minkowski”\t |  MinkowskiDistance   |    p\t     | sum(\\|x - y\\|^p)^(1/p)\n",
    "“wminkowski” |  WMinkowskiDistance  |  p, w\t     | sum(\\|w * (x - y)\\|^p)^(1/p)\n",
    "“seuclidean” |  SEuclideanDistance  |    V\t     |sqrt(sum((x - y)^2 / V))\n",
    "“mahalanobis”|\tMahalanobisDistance\t|   V or VI\t |sqrt((x - y)' V^-1 (x - y))\n",
    "\n",
    "\n",
    "Metrics intended for boolean-valued vector spaces: Any nonzero entry is evaluated to “True”. In the listings below, the following abbreviations are used:\n",
    "\n",
    "    * N : number of dimensions\n",
    "    * NTT : number of dims in which both values are True\n",
    "    * NTF : number of dims in which the first value is True, second is False\n",
    "    * NFT : number of dims in which the first value is False, second is True\n",
    "    * NFF : number of dims in which both values are False\n",
    "    * NNEQ : number of non-equal dimensions, NNEQ = NTF + NFT\n",
    "    * NNZ : number of nonzero dimensions, NNZ = NTF + NFT + NTT\t\t\n",
    "\t\t\n",
    "\t\t\n",
    "identifier       |class name\t           |distance function\n",
    "----------------:|:-----------------------:|:----------------\n",
    "“jaccard”\t     |  JaccardDistance        | sNNEQ / NNZ\n",
    "“matching”\t     |  MatchingDistance       | NNEQ / N\n",
    "“dice”\t         |  DiceDistance           | NNEQ / (NTT + NNZ)\n",
    "“kulsinski”\t     |  KulsinskiDistance      | (NNEQ + N - NTT) / (NNEQ + N)\n",
    "“rogerstanimoto” |  RogersTanimotoDistance | 2 * NNEQ / (N + NNEQ)\n",
    "“russellrao”\t |  RussellRaoDistance     | NNZ / N\n",
    "“sokalmichener”\t |  SokalMichenerDistance  | 2 * NNEQ / (N + NNEQ)\n",
    "“sokalsneath”\t |  SokalSneathDistance    | NNEQ / (NNEQ + 0.5 * NTT)\n",
    "\n",
    "\n",
    "Metrics intended for two-dimensional vector spaces: Note that the haversine distance metric requires data in the form of [latitude, longitude] and both inputs and outputs are in units of radians.\t\n",
    "\n",
    "identifier       |class name\t           |distance function\n",
    "----------------:|:-----------------------:|:----------------\n",
    "“haversine”\t     |  HaversineDistance      | 2 arcsin(sqrt(sin^2(0.5*dx) + cos(x1)cos(x2)sin^2(0.5*dy)))"
   ]
  },
  {
   "cell_type": "code",
   "execution_count": null,
   "metadata": {},
   "outputs": [],
   "source": []
  },
  {
   "cell_type": "code",
   "execution_count": null,
   "metadata": {},
   "outputs": [],
   "source": []
  },
  {
   "cell_type": "markdown",
   "metadata": {},
   "source": [
    "## Step 6: Method and Number of Segments\n",
    "\n",
    "There are many statistical methods for clustering and segmentation. In practice one may use various approaches and then eventually select the solution that is statistically robust (see last step below), interpretable, and actionable - among other criteria.\n",
    "\n",
    "In this note we will use two widely used methods: the **Kmeans Clustering Method**, and the **Hierarchical Clustering Method**. Like all clustering methods, these two also require that we have decided how to measure the distance/similarity between our observations.  Explaining how these methods work is beyond our scope. The only difference to highlight is that Kmeans requires the user to define how many segments to create, while Hierarchical Clustering does not. \n",
    "\n",
    "Let's fist use the **Hierarchial Clustering** method, as we do not know for now how many segments there are in our data. Hierarchical clustering is a  method that also helps us visualise how the data may be clustered together. It generates a plot called the **Dendrogram** which is often helpful for visualization - but should be used with care. \n"
   ]
  },
  {
   "cell_type": "code",
   "execution_count": 28,
   "metadata": {
    "ExecuteTime": {
     "end_time": "2020-02-23T10:39:10.861087Z",
     "start_time": "2020-02-23T10:39:10.635829Z"
    }
   },
   "outputs": [],
   "source": [
    "from scipy.cluster.hierarchy import dendrogram,linkage\n",
    "from matplotlib import pyplot as plt"
   ]
  },
  {
   "cell_type": "code",
   "execution_count": 32,
   "metadata": {
    "ExecuteTime": {
     "end_time": "2020-02-23T10:48:12.348750Z",
     "start_time": "2020-02-23T10:48:12.187185Z"
    }
   },
   "outputs": [],
   "source": [
    "linked = linkage(scaled_cols.loc[:,variables_for_segementation].values,'single')"
   ]
  },
  {
   "cell_type": "code",
   "execution_count": 35,
   "metadata": {
    "ExecuteTime": {
     "end_time": "2020-02-23T10:50:41.112735Z",
     "start_time": "2020-02-23T10:50:35.100696Z"
    }
   },
   "outputs": [
    {
     "data": {
      "image/png": "[encoded data removed]",
      "text/plain": [
       "<Figure size 4680x3600 with 1 Axes>"
      ]
     },
     "metadata": {
      "needs_background": "light"
     },
     "output_type": "display_data"
    }
   ],
   "source": [
    "plt.figure(figsize=(65,50))\n",
    "dendrogram(linked,orientation='top',truncate_mode='lastp',p=30,distance_sort='descending',\n",
    "           show_contracted = True,show_leaf_counts=True)\n",
    "plt.show()"
   ]
  },
  {
   "cell_type": "markdown",
   "metadata": {},
   "source": [
    "**Using K-means Clustering**\n",
    "\n",
    "As always, much like Hierarchical Clustering can be performed using various distance metrics, so can Kmeans. Moreover, there are variations of Kmeans (e.g. \"Hartigan-Wong\", \"Lloyd\", or \"MacQueen\") one can explore, which are beyond the scope of this note. **Note:** K-means does not necessarily lead to the same solution every time you run it."
   ]
  },
  {
   "cell_type": "code",
   "execution_count": 58,
   "metadata": {},
   "outputs": [],
   "source": [
    "from scipy.cluster.hierarchy import dendrogram,linkage"
   ]
  },
  {
   "cell_type": "code",
   "execution_count": 39,
   "metadata": {
    "ExecuteTime": {
     "end_time": "2020-02-23T10:59:39.512326Z",
     "start_time": "2020-02-23T10:59:39.173740Z"
    }
   },
   "outputs": [
    {
     "name": "stdout",
     "output_type": "stream",
     "text": [
      "[2 1 2 ... 0 0 0]\n"
     ]
    }
   ],
   "source": [
    "from sklearn.cluster import AgglomerativeClustering\n",
    "cluster = AgglomerativeClustering(n_clusters=3,affinity='euclidean',linkage='ward')\n",
    "cluster.fit_predict(scaled_cols.loc[:,variables_for_segementation].values)\n",
    "print(cluster.labels_)\n",
    "scaled_cols['hclust_num']=cluster.labels_"
   ]
  },
  {
   "cell_type": "code",
   "execution_count": 45,
   "metadata": {
    "ExecuteTime": {
     "end_time": "2020-02-23T11:18:58.424707Z",
     "start_time": "2020-02-23T11:18:58.416728Z"
    }
   },
   "outputs": [],
   "source": [
    "new_scaled_data = pd.concat([mall_data[variables_for_Profile],scaled_cols], axis=1, sort=False)"
   ]
  },
  {
   "cell_type": "code",
   "execution_count": 50,
   "metadata": {
    "ExecuteTime": {
     "end_time": "2020-02-23T11:25:11.990835Z",
     "start_time": "2020-02-23T11:25:11.972882Z"
    }
   },
   "outputs": [
    {
     "data": {
      "text/html": [
       "<div>\n",
       "<style scoped>\n",
       "    .dataframe tbody tr th:only-of-type {\n",
       "        vertical-align: middle;\n",
       "    }\n",
       "\n",
       "    .dataframe tbody tr th {\n",
       "        vertical-align: top;\n",
       "    }\n",
       "\n",
       "    .dataframe thead th {\n",
       "        text-align: right;\n",
       "    }\n",
       "</style>\n",
       "<table border=\"1\" class=\"dataframe\">\n",
       "  <thead>\n",
       "    <tr style=\"text-align: right;\">\n",
       "      <th></th>\n",
       "      <th>Income</th>\n",
       "      <th>Mall.Visits</th>\n",
       "      <th>V1</th>\n",
       "      <th>V2</th>\n",
       "      <th>V3</th>\n",
       "      <th>V4</th>\n",
       "      <th>V5</th>\n",
       "      <th>V6</th>\n",
       "    </tr>\n",
       "    <tr>\n",
       "      <th>hclust_num</th>\n",
       "      <th></th>\n",
       "      <th></th>\n",
       "      <th></th>\n",
       "      <th></th>\n",
       "      <th></th>\n",
       "      <th></th>\n",
       "      <th></th>\n",
       "      <th></th>\n",
       "    </tr>\n",
       "  </thead>\n",
       "  <tbody>\n",
       "    <tr>\n",
       "      <th>0</th>\n",
       "      <td>30991.546389</td>\n",
       "      <td>5.500988</td>\n",
       "      <td>0.410408</td>\n",
       "      <td>0.800000</td>\n",
       "      <td>0.332510</td>\n",
       "      <td>0.796047</td>\n",
       "      <td>0.333004</td>\n",
       "      <td>0.618379</td>\n",
       "    </tr>\n",
       "    <tr>\n",
       "      <th>1</th>\n",
       "      <td>41907.792598</td>\n",
       "      <td>1.398221</td>\n",
       "      <td>0.080863</td>\n",
       "      <td>0.198617</td>\n",
       "      <td>0.164361</td>\n",
       "      <td>0.313636</td>\n",
       "      <td>0.757411</td>\n",
       "      <td>0.197233</td>\n",
       "    </tr>\n",
       "    <tr>\n",
       "      <th>2</th>\n",
       "      <td>60019.482421</td>\n",
       "      <td>2.981299</td>\n",
       "      <td>0.762959</td>\n",
       "      <td>0.294094</td>\n",
       "      <td>0.751148</td>\n",
       "      <td>0.205315</td>\n",
       "      <td>0.167979</td>\n",
       "      <td>0.406890</td>\n",
       "    </tr>\n",
       "  </tbody>\n",
       "</table>\n",
       "</div>"
      ],
      "text/plain": [
       "                  Income  Mall.Visits        V1        V2        V3        V4  \\\n",
       "hclust_num                                                                      \n",
       "0           30991.546389     5.500988  0.410408  0.800000  0.332510  0.796047   \n",
       "1           41907.792598     1.398221  0.080863  0.198617  0.164361  0.313636   \n",
       "2           60019.482421     2.981299  0.762959  0.294094  0.751148  0.205315   \n",
       "\n",
       "                  V5        V6  \n",
       "hclust_num                      \n",
       "0           0.333004  0.618379  \n",
       "1           0.757411  0.197233  \n",
       "2           0.167979  0.406890  "
      ]
     },
     "execution_count": 50,
     "metadata": {},
     "output_type": "execute_result"
    }
   ],
   "source": [
    "new_scaled_data.groupby(['hclust_num']).mean()"
   ]
  },
  {
   "cell_type": "code",
   "execution_count": 51,
   "metadata": {
    "ExecuteTime": {
     "end_time": "2020-02-23T11:35:08.928121Z",
     "start_time": "2020-02-23T11:35:08.924131Z"
    }
   },
   "outputs": [],
   "source": [
    "from sklearn.cluster import KMeans"
   ]
  },
  {
   "cell_type": "code",
   "execution_count": 54,
   "metadata": {
    "ExecuteTime": {
     "end_time": "2020-02-23T11:50:04.272320Z",
     "start_time": "2020-02-23T11:50:01.707615Z"
    }
   },
   "outputs": [
    {
     "name": "stdout",
     "output_type": "stream",
     "text": [
      "1028.8664764453595\n",
      "533.595746825465\n",
      "471.3063866173982\n",
      "431.98770505815315\n",
      "393.27862074938355\n",
      "378.41868936856696\n",
      "365.19352119289755\n",
      "351.51153926774373\n",
      "341.3560370821307\n"
     ]
    },
    {
     "data": {
      "image/png": "[encoded data removed]",
      "text/plain": [
       "<Figure size 720x576 with 1 Axes>"
      ]
     },
     "metadata": {
      "needs_background": "light"
     },
     "output_type": "display_data"
    }
   ],
   "source": [
    "wccs = []\n",
    "for k in range(2,11):\n",
    "    kmeans=KMeans(n_clusters=k,init='k-means++',random_state=42)\n",
    "    kmeans.fit(new_scaled_data.loc[:,variables_for_segementation].values)\n",
    "    wccs.append(kmeans.inertia_)\n",
    "    print(kmeans.inertia_)\n",
    "plt.figure(figsize=(10,8))\n",
    "plt.plot(range(2,11),wccs)\n",
    "plt.title('The Elbow method')\n",
    "plt.xlabel('Number of clusters')\n",
    "plt.ylabel('WCSS')\n",
    "plt.show()"
   ]
  },
  {
   "cell_type": "code",
   "execution_count": 55,
   "metadata": {
    "ExecuteTime": {
     "end_time": "2020-02-23T11:58:06.843784Z",
     "start_time": "2020-02-23T11:58:06.692189Z"
    }
   },
   "outputs": [
    {
     "data": {
      "text/plain": [
       "KMeans(algorithm='auto', copy_x=True, init='k-means++', max_iter=300,\n",
       "       n_clusters=3, n_init=10, n_jobs=None, precompute_distances='auto',\n",
       "       random_state=42, tol=0.0001, verbose=0)"
      ]
     },
     "execution_count": 55,
     "metadata": {},
     "output_type": "execute_result"
    }
   ],
   "source": [
    "kmeans=KMeans(n_clusters=3,init='k-means++',random_state=42)\n",
    "kmeans.fit(new_scaled_data.loc[:,variables_for_segementation].values)"
   ]
  },
  {
   "cell_type": "code",
   "execution_count": 56,
   "metadata": {
    "ExecuteTime": {
     "end_time": "2020-02-23T12:02:28.127427Z",
     "start_time": "2020-02-23T12:02:28.093519Z"
    }
   },
   "outputs": [],
   "source": [
    "new_scaled_data['kmeans_cluster'] = kmeans.predict(new_scaled_data.loc[:,variables_for_segementation].values)"
   ]
  },
  {
   "cell_type": "code",
   "execution_count": null,
   "metadata": {},
   "outputs": [],
   "source": [
    "new_scaled"
   ]
  },
  {
   "cell_type": "markdown",
   "metadata": {},
   "source": [
    "## Step 7: Profile and interpret the segments \n",
    "\n",
    "Having decided (for now) how many clusters to use, we would like to get a better understanding of who the customers in those clusters are and interpret the segments. \n",
    "\n",
    "> Data analytics is used to eventually make decisions, and that is feasible only when we are comfortable (enough) with our understanding of the analytics results, including our ability to clearly interpret them. \n",
    "To this purpose, one needs to spend time visualizing and understanding the data within each of the selected segments. For example, one can see how the summary statistics (e.g. averages, standard deviations, etc) of the **profiling attributes** differ across the segments. \n"
   ]
  },
  {
   "cell_type": "code",
   "execution_count": 57,
   "metadata": {
    "ExecuteTime": {
     "end_time": "2020-02-23T12:05:05.800802Z",
     "start_time": "2020-02-23T12:05:05.779859Z"
    },
    "scrolled": true
   },
   "outputs": [
    {
     "data": {
      "text/html": [
       "<div>\n",
       "<style scoped>\n",
       "    .dataframe tbody tr th:only-of-type {\n",
       "        vertical-align: middle;\n",
       "    }\n",
       "\n",
       "    .dataframe tbody tr th {\n",
       "        vertical-align: top;\n",
       "    }\n",
       "\n",
       "    .dataframe thead th {\n",
       "        text-align: right;\n",
       "    }\n",
       "</style>\n",
       "<table border=\"1\" class=\"dataframe\">\n",
       "  <thead>\n",
       "    <tr style=\"text-align: right;\">\n",
       "      <th></th>\n",
       "      <th>Income</th>\n",
       "      <th>Mall.Visits</th>\n",
       "      <th>V1</th>\n",
       "      <th>V2</th>\n",
       "      <th>V3</th>\n",
       "      <th>V4</th>\n",
       "      <th>V5</th>\n",
       "      <th>V6</th>\n",
       "      <th>hclust_num</th>\n",
       "    </tr>\n",
       "    <tr>\n",
       "      <th>kmeans_cluster</th>\n",
       "      <th></th>\n",
       "      <th></th>\n",
       "      <th></th>\n",
       "      <th></th>\n",
       "      <th></th>\n",
       "      <th></th>\n",
       "      <th></th>\n",
       "      <th></th>\n",
       "      <th></th>\n",
       "    </tr>\n",
       "  </thead>\n",
       "  <tbody>\n",
       "    <tr>\n",
       "      <th>0</th>\n",
       "      <td>31078.336535</td>\n",
       "      <td>5.491626</td>\n",
       "      <td>0.410673</td>\n",
       "      <td>0.799409</td>\n",
       "      <td>0.333005</td>\n",
       "      <td>0.794877</td>\n",
       "      <td>0.332841</td>\n",
       "      <td>0.618325</td>\n",
       "      <td>0.005911</td>\n",
       "    </tr>\n",
       "    <tr>\n",
       "      <th>1</th>\n",
       "      <td>41907.792598</td>\n",
       "      <td>1.398221</td>\n",
       "      <td>0.080863</td>\n",
       "      <td>0.198617</td>\n",
       "      <td>0.164361</td>\n",
       "      <td>0.313636</td>\n",
       "      <td>0.757411</td>\n",
       "      <td>0.197233</td>\n",
       "      <td>1.000000</td>\n",
       "    </tr>\n",
       "    <tr>\n",
       "      <th>2</th>\n",
       "      <td>60018.487168</td>\n",
       "      <td>2.983218</td>\n",
       "      <td>0.763738</td>\n",
       "      <td>0.293189</td>\n",
       "      <td>0.751892</td>\n",
       "      <td>0.204738</td>\n",
       "      <td>0.167654</td>\n",
       "      <td>0.406318</td>\n",
       "      <td>2.000000</td>\n",
       "    </tr>\n",
       "  </tbody>\n",
       "</table>\n",
       "</div>"
      ],
      "text/plain": [
       "                      Income  Mall.Visits        V1        V2        V3  \\\n",
       "kmeans_cluster                                                            \n",
       "0               31078.336535     5.491626  0.410673  0.799409  0.333005   \n",
       "1               41907.792598     1.398221  0.080863  0.198617  0.164361   \n",
       "2               60018.487168     2.983218  0.763738  0.293189  0.751892   \n",
       "\n",
       "                      V4        V5        V6  hclust_num  \n",
       "kmeans_cluster                                            \n",
       "0               0.794877  0.332841  0.618325    0.005911  \n",
       "1               0.313636  0.757411  0.197233    1.000000  \n",
       "2               0.204738  0.167654  0.406318    2.000000  "
      ]
     },
     "execution_count": 57,
     "metadata": {},
     "output_type": "execute_result"
    }
   ],
   "source": [
    "new_scaled_data.groupby(['kmeans_cluster']).mean()"
   ]
  },
  {
   "cell_type": "code",
   "execution_count": 60,
   "metadata": {
    "ExecuteTime": {
     "end_time": "2020-02-23T12:05:48.536331Z",
     "start_time": "2020-02-23T12:05:48.516362Z"
    }
   },
   "outputs": [
    {
     "data": {
      "text/html": [
       "<div>\n",
       "<style scoped>\n",
       "    .dataframe tbody tr th:only-of-type {\n",
       "        vertical-align: middle;\n",
       "    }\n",
       "\n",
       "    .dataframe tbody tr th {\n",
       "        vertical-align: top;\n",
       "    }\n",
       "\n",
       "    .dataframe thead th {\n",
       "        text-align: right;\n",
       "    }\n",
       "</style>\n",
       "<table border=\"1\" class=\"dataframe\">\n",
       "  <thead>\n",
       "    <tr style=\"text-align: right;\">\n",
       "      <th></th>\n",
       "      <th>Income</th>\n",
       "      <th>Mall.Visits</th>\n",
       "      <th>V1</th>\n",
       "      <th>V2</th>\n",
       "      <th>V3</th>\n",
       "      <th>V4</th>\n",
       "      <th>V5</th>\n",
       "      <th>V6</th>\n",
       "      <th>kmeans_cluster</th>\n",
       "    </tr>\n",
       "    <tr>\n",
       "      <th>hclust_num</th>\n",
       "      <th></th>\n",
       "      <th></th>\n",
       "      <th></th>\n",
       "      <th></th>\n",
       "      <th></th>\n",
       "      <th></th>\n",
       "      <th></th>\n",
       "      <th></th>\n",
       "      <th></th>\n",
       "    </tr>\n",
       "  </thead>\n",
       "  <tbody>\n",
       "    <tr>\n",
       "      <th>0</th>\n",
       "      <td>30991.546389</td>\n",
       "      <td>5.500988</td>\n",
       "      <td>0.410408</td>\n",
       "      <td>0.800000</td>\n",
       "      <td>0.332510</td>\n",
       "      <td>0.796047</td>\n",
       "      <td>0.333004</td>\n",
       "      <td>0.618379</td>\n",
       "      <td>0.000000</td>\n",
       "    </tr>\n",
       "    <tr>\n",
       "      <th>1</th>\n",
       "      <td>41907.792598</td>\n",
       "      <td>1.398221</td>\n",
       "      <td>0.080863</td>\n",
       "      <td>0.198617</td>\n",
       "      <td>0.164361</td>\n",
       "      <td>0.313636</td>\n",
       "      <td>0.757411</td>\n",
       "      <td>0.197233</td>\n",
       "      <td>1.000000</td>\n",
       "    </tr>\n",
       "    <tr>\n",
       "      <th>2</th>\n",
       "      <td>60019.482421</td>\n",
       "      <td>2.981299</td>\n",
       "      <td>0.762959</td>\n",
       "      <td>0.294094</td>\n",
       "      <td>0.751148</td>\n",
       "      <td>0.205315</td>\n",
       "      <td>0.167979</td>\n",
       "      <td>0.406890</td>\n",
       "      <td>1.994094</td>\n",
       "    </tr>\n",
       "  </tbody>\n",
       "</table>\n",
       "</div>"
      ],
      "text/plain": [
       "                  Income  Mall.Visits        V1        V2        V3        V4  \\\n",
       "hclust_num                                                                      \n",
       "0           30991.546389     5.500988  0.410408  0.800000  0.332510  0.796047   \n",
       "1           41907.792598     1.398221  0.080863  0.198617  0.164361  0.313636   \n",
       "2           60019.482421     2.981299  0.762959  0.294094  0.751148  0.205315   \n",
       "\n",
       "                  V5        V6  kmeans_cluster  \n",
       "hclust_num                                      \n",
       "0           0.333004  0.618379        0.000000  \n",
       "1           0.757411  0.197233        1.000000  \n",
       "2           0.167979  0.406890        1.994094  "
      ]
     },
     "execution_count": 60,
     "metadata": {},
     "output_type": "execute_result"
    }
   ],
   "source": [
    "new_scaled_data.groupby(['hclust_num']).mean()"
   ]
  },
  {
   "cell_type": "markdown",
   "metadata": {},
   "source": [
    "## Step 8: Robustness Analysis\n",
    "\n",
    "The segmentation process outlined so far can be followed with many different approaches, for example:\n",
    "\n",
    "- using different subsets of the original data\n",
    "- using variations of the original segmentation attributes\n",
    "- using different distance metrics\n",
    "- using different segmentation methods\n",
    "- using different numbers of clusters\n",
    "\n",
    "> Much like any data analysis, segmentation is an iterative process with many variations of data, methods, number of clusters, and profiles generated until a satisfying solution is reached. \n",
    "Clearly exploring all variations is beyond the scope of this note. We discuss, however, an example of how to test the **statistical robustness** and **stability of interpretation** of the clusters found using two different approaches: Kmeans and Hierarchical Clustering, as outlined above. \n",
    "\n",
    "Basic test to perform:\n",
    "\n",
    "How similar are the datapoints of each cluster with neighbouring clusters. How dissimilar are the members of a cluster with each other. We will be evaluating the compactness and the separation of the clusters using Silhouette Coefficient\n",
    "\n",
    "Firstly, we'll be looking at how to perform the test by computing the **Silhouette Score**"
   ]
  },
  {
   "cell_type": "markdown",
   "metadata": {},
   "source": [
    "\n",
    "*Sihouette Coefficient*: Evaluate how well the **compactness** and the **separation** of the clusters are.\n",
    "(Note that the notation below is consistent with the above content.) Using *Sihouette Coefficient*, we can choose an optimal value for number of clusters.\n",
    "\n",
    "***\n",
    "\n",
    "$ a(x_i) $ denotes the **mean intra-cluster distance**. Evaluate the compactness of the cluster to which $x_i$ belongs. (The smaller the more compact)\n",
    "\n",
    "$$ a(x_i) = \\frac{ \\sum_{x_k \\in C_j ,\\ k \\neq i}{D(x_i, x_k)} }{\\left\\vert C_j \\right\\vert - 1} $$  \n",
    "\n",
    "For the data point $x_i$, caculate its average distance to all the other data points in its cluster. (Minusing one in denominator part is to leave out the current data point $x_i$)\n",
    "\n",
    "***\n",
    "\n",
    "$ b(x_i) $ denotes the **mean nearest-cluster distance**. Evaluate how $x_i$ is separated from other clusters. (The larger the more separated)\n",
    "\n",
    "$$ b(x_i) = \\min_{C_j :\\ 1 \\leq j \\leq k ,\\ x_i \\notin C_j} \\left\\{ \\frac{ \\sum_{x_k \\in C_j}{D(x_i, x_k)} }{\\left\\vert C_j \\right\\vert } \\right\\} $$\n",
    "\n",
    "For the data point $x_i$ and all the other clusters not containing $x_i$, caculate its average distance to all the other data points in the given clusters. Find the minimum distance value with respect to the given clusters. \n",
    "\n",
    "***\n",
    "\n",
    "Finally, *Silhouette Coefficient*: $ s(x_i) = \\displaystyle\\frac{b(x_i) - a(x_i)}{\\max\\{a(x_i), b(x_i)\\}},\\ -1 \\leq s(x_i) \\leq 1 $. Want $a(x_i) \\lt b(x_i)$ and $a(x_i) \\to 0$ so as to $s(x_i) \\to 1$."
   ]
  },
  {
   "cell_type": "code",
   "execution_count": 61,
   "metadata": {
    "ExecuteTime": {
     "end_time": "2020-02-23T12:26:37.687340Z",
     "start_time": "2020-02-23T12:26:37.683353Z"
    }
   },
   "outputs": [],
   "source": [
    "from sklearn.metrics import silhouette_score"
   ]
  },
  {
   "cell_type": "code",
   "execution_count": 68,
   "metadata": {
    "ExecuteTime": {
     "end_time": "2020-02-23T12:33:04.186676Z",
     "start_time": "2020-02-23T12:33:04.171728Z"
    }
   },
   "outputs": [
    {
     "data": {
      "text/html": [
       "<div>\n",
       "<style scoped>\n",
       "    .dataframe tbody tr th:only-of-type {\n",
       "        vertical-align: middle;\n",
       "    }\n",
       "\n",
       "    .dataframe tbody tr th {\n",
       "        vertical-align: top;\n",
       "    }\n",
       "\n",
       "    .dataframe thead th {\n",
       "        text-align: right;\n",
       "    }\n",
       "</style>\n",
       "<table border=\"1\" class=\"dataframe\">\n",
       "  <thead>\n",
       "    <tr style=\"text-align: right;\">\n",
       "      <th></th>\n",
       "      <th>Income</th>\n",
       "      <th>Mall.Visits</th>\n",
       "      <th>V1</th>\n",
       "      <th>V2</th>\n",
       "      <th>V3</th>\n",
       "      <th>V4</th>\n",
       "      <th>V5</th>\n",
       "      <th>V6</th>\n",
       "      <th>hclust_num</th>\n",
       "      <th>kmeans_cluster</th>\n",
       "    </tr>\n",
       "  </thead>\n",
       "  <tbody>\n",
       "    <tr>\n",
       "      <th>0</th>\n",
       "      <td>60000.0</td>\n",
       "      <td>3</td>\n",
       "      <td>0.833333</td>\n",
       "      <td>0.4</td>\n",
       "      <td>1.000000</td>\n",
       "      <td>0.2</td>\n",
       "      <td>0.166667</td>\n",
       "      <td>0.2</td>\n",
       "      <td>2</td>\n",
       "      <td>2</td>\n",
       "    </tr>\n",
       "    <tr>\n",
       "      <th>1</th>\n",
       "      <td>30000.0</td>\n",
       "      <td>1</td>\n",
       "      <td>0.166667</td>\n",
       "      <td>0.2</td>\n",
       "      <td>0.000000</td>\n",
       "      <td>0.4</td>\n",
       "      <td>0.666667</td>\n",
       "      <td>0.4</td>\n",
       "      <td>1</td>\n",
       "      <td>1</td>\n",
       "    </tr>\n",
       "    <tr>\n",
       "      <th>2</th>\n",
       "      <td>70000.0</td>\n",
       "      <td>3</td>\n",
       "      <td>1.000000</td>\n",
       "      <td>0.0</td>\n",
       "      <td>0.833333</td>\n",
       "      <td>0.4</td>\n",
       "      <td>0.000000</td>\n",
       "      <td>0.2</td>\n",
       "      <td>2</td>\n",
       "      <td>2</td>\n",
       "    </tr>\n",
       "    <tr>\n",
       "      <th>3</th>\n",
       "      <td>30000.0</td>\n",
       "      <td>7</td>\n",
       "      <td>0.500000</td>\n",
       "      <td>0.8</td>\n",
       "      <td>0.500000</td>\n",
       "      <td>0.6</td>\n",
       "      <td>0.333333</td>\n",
       "      <td>0.8</td>\n",
       "      <td>0</td>\n",
       "      <td>0</td>\n",
       "    </tr>\n",
       "    <tr>\n",
       "      <th>4</th>\n",
       "      <td>60000.0</td>\n",
       "      <td>1</td>\n",
       "      <td>0.000000</td>\n",
       "      <td>0.2</td>\n",
       "      <td>0.166667</td>\n",
       "      <td>0.0</td>\n",
       "      <td>0.833333</td>\n",
       "      <td>0.4</td>\n",
       "      <td>1</td>\n",
       "      <td>1</td>\n",
       "    </tr>\n",
       "  </tbody>\n",
       "</table>\n",
       "</div>"
      ],
      "text/plain": [
       "    Income  Mall.Visits        V1   V2        V3   V4        V5   V6  \\\n",
       "0  60000.0            3  0.833333  0.4  1.000000  0.2  0.166667  0.2   \n",
       "1  30000.0            1  0.166667  0.2  0.000000  0.4  0.666667  0.4   \n",
       "2  70000.0            3  1.000000  0.0  0.833333  0.4  0.000000  0.2   \n",
       "3  30000.0            7  0.500000  0.8  0.500000  0.6  0.333333  0.8   \n",
       "4  60000.0            1  0.000000  0.2  0.166667  0.0  0.833333  0.4   \n",
       "\n",
       "   hclust_num  kmeans_cluster  \n",
       "0           2               2  \n",
       "1           1               1  \n",
       "2           2               2  \n",
       "3           0               0  \n",
       "4           1               1  "
      ]
     },
     "execution_count": 68,
     "metadata": {},
     "output_type": "execute_result"
    }
   ],
   "source": [
    "new_scaled_data.head()"
   ]
  },
  {
   "cell_type": "code",
   "execution_count": 69,
   "metadata": {
    "ExecuteTime": {
     "end_time": "2020-02-23T12:34:07.092294Z",
     "start_time": "2020-02-23T12:34:03.044409Z"
    }
   },
   "outputs": [
    {
     "name": "stdout",
     "output_type": "stream",
     "text": [
      "for n_clustesr=2,The silhoutte coeff is 0.3661244817374781\n",
      "for n_clustesr=3,The silhoutte coeff is 0.4800670594729661\n",
      "for n_clustesr=4,The silhoutte coeff is 0.4024199646483625\n",
      "for n_clustesr=5,The silhoutte coeff is 0.31294184863293395\n",
      "for n_clustesr=6,The silhoutte coeff is 0.23224779880640212\n",
      "for n_clustesr=7,The silhoutte coeff is 0.22004098124885274\n",
      "for n_clustesr=8,The silhoutte coeff is 0.20625581672763102\n",
      "for n_clustesr=9,The silhoutte coeff is 0.20450898351877198\n"
     ]
    }
   ],
   "source": [
    "for n_cluster in range(2,10):\n",
    "    kmeans=KMeans(n_clusters=n_cluster,init='k-means++',random_state=42)\n",
    "    kmeans.fit(new_scaled_data.loc[:,variables_for_segementation].values)\n",
    "    label = kmeans.labels_\n",
    "    sil_coeff = silhouette_score(new_scaled_data.loc[:,variables_for_segementation].values,label,\n",
    "                                 metric='euclidean')\n",
    "    print(\"for n_clustesr={},The silhoutte coeff is {}\".format(n_cluster,sil_coeff))"
   ]
  },
  {
   "cell_type": "code",
   "execution_count": 71,
   "metadata": {
    "ExecuteTime": {
     "end_time": "2020-02-23T12:36:35.336542Z",
     "start_time": "2020-02-23T12:36:35.332554Z"
    }
   },
   "outputs": [],
   "source": [
    "from matplotlib import cm\n",
    "from sklearn.metrics import silhouette_samples"
   ]
  },
  {
   "cell_type": "code",
   "execution_count": 80,
   "metadata": {
    "ExecuteTime": {
     "end_time": "2020-02-23T12:46:16.808595Z",
     "start_time": "2020-02-23T12:46:16.323625Z"
    }
   },
   "outputs": [],
   "source": [
    "km = KMeans(n_clusters = 3, init = 'k-means++', n_init=10, \n",
    "            max_iter=300, tol=1e-04, random_state=0)\n",
    "\n",
    "y_km = km.fit_predict(new_scaled_data.loc[:, variables_for_segementation].values)\n",
    "\n",
    "cluster_labels = np.unique(y_km)\n",
    "n_clusters = cluster_labels.shape[0]\n",
    "\n",
    "silhouette_vals = silhouette_samples(new_scaled_data.loc[:, variables_for_segementation].values, \n",
    "                                     y_km, metric='euclidean')"
   ]
  },
  {
   "cell_type": "code",
   "execution_count": 81,
   "metadata": {
    "ExecuteTime": {
     "end_time": "2020-02-23T12:46:26.094589Z",
     "start_time": "2020-02-23T12:46:16.938249Z"
    }
   },
   "outputs": [
    {
     "data": {
      "image/png": "[encoded data removed]",
      "text/plain": [
       "<Figure size 432x288 with 1 Axes>"
      ]
     },
     "metadata": {
      "needs_background": "light"
     },
     "output_type": "display_data"
    }
   ],
   "source": [
    "y_ax_lower, y_ax_upper = 0, 0\n",
    "yticks = []\n",
    "\n",
    "for i, c in enumerate(cluster_labels):\n",
    "    c_silhouette_vals = silhouette_vals[y_km == c]\n",
    "    c_silhouette_vals.sort()\n",
    "    y_ax_upper += len(c_silhouette_vals)\n",
    "    color = cm.jet(float(i) / n_clusters)\n",
    "    plt.barh(range(y_ax_lower, y_ax_upper), c_silhouette_vals, height=1.0, \n",
    "             edgecolor='none', color=color)\n",
    "    \n",
    "    yticks.append((y_ax_lower + y_ax_upper) / 2.)\n",
    "    y_ax_lower += len(c_silhouette_vals)\n",
    "    \n",
    "silhouette_avg = np.mean(silhouette_vals)\n",
    "plt.axvline(silhouette_avg, color=\"red\", linestyle=\"--\") \n",
    "\n",
    "plt.yticks(yticks, cluster_labels + 1)\n",
    "plt.ylabel('Cluster')\n",
    "plt.xlabel('Silhouette coefficient')\n",
    "\n",
    "plt.tight_layout()"
   ]
  },
  {
   "cell_type": "code",
   "execution_count": null,
   "metadata": {},
   "outputs": [],
   "source": []
  },
  {
   "cell_type": "code",
   "execution_count": null,
   "metadata": {},
   "outputs": [],
   "source": []
  }
 ],
 "metadata": {
  "kernelspec": {
   "display_name": "Python 3",
   "language": "python",
   "name": "python3"
  },
  "language_info": {
   "codemirror_mode": {
    "name": "ipython",
    "version": 3
   },
   "file_extension": ".py",
   "mimetype": "text/x-python",
   "name": "python",
   "nbconvert_exporter": "python",
   "pygments_lexer": "ipython3",
   "version": "3.6.5"
  },
  "varInspector": {
   "cols": {
    "lenName": 16,
    "lenType": 16,
    "lenVar": 40
   },
   "kernels_config": {
    "python": {
     "delete_cmd_postfix": "",
     "delete_cmd_prefix": "del ",
     "library": "var_list.py",
     "varRefreshCmd": "print(var_dic_list())"
    },
    "r": {
     "delete_cmd_postfix": ") ",
     "delete_cmd_prefix": "rm(",
     "library": "var_list.r",
     "varRefreshCmd": "cat(var_dic_list()) "
    }
   },
   "types_to_exclude": [
    "module",
    "function",
    "builtin_function_or_method",
    "instance",
    "_Feature"
   ],
   "window_display": false
  }
 },
 "nbformat": 4,
 "nbformat_minor": 2
}
